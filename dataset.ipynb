{
 "cells": [
  {
   "cell_type": "code",
   "execution_count": 1,
   "metadata": {},
   "outputs": [],
   "source": [
    "import pandas as pd\n",
    "import numpy as np"
   ]
  },
  {
   "cell_type": "code",
   "execution_count": 2,
   "metadata": {},
   "outputs": [],
   "source": [
    "diag = pd.read_csv('mimic-iii-clinical-database-demo-1.4/DIAGNOSES_ICD.csv')\n",
    "lab = pd.read_csv('mimic-iii-clinical-database-demo-1.4/LABEVENTS.csv')"
   ]
  },
  {
   "cell_type": "code",
   "execution_count": 3,
   "metadata": {},
   "outputs": [],
   "source": [
    "unique_values = diag['hadm_id'].dropna().unique()\n",
    "num_hadm_id = len(unique_values)\n",
    "hadm_id_index = dict()\n",
    "for i, value in enumerate(unique_values):\n",
    "    hadm_id_index[value] = i"
   ]
  },
  {
   "cell_type": "code",
   "execution_count": 4,
   "metadata": {},
   "outputs": [],
   "source": [
    "hadm_id_subject_id = diag.groupby('subject_id')['hadm_id'].unique()"
   ]
  },
  {
   "cell_type": "code",
   "execution_count": 5,
   "metadata": {},
   "outputs": [],
   "source": [
    "unique_values = diag['icd9_code'].dropna().unique()\n",
    "num_icd9_code = len(unique_values)\n",
    "icd9_code_index = dict()\n",
    "for i, value in enumerate(unique_values):\n",
    "    icd9_code_index[value] = i"
   ]
  },
  {
   "cell_type": "code",
   "execution_count": 6,
   "metadata": {},
   "outputs": [],
   "source": [
    "unique_values = lab['itemid'].dropna().unique()\n",
    "num_lab_item = len(unique_values)\n",
    "lab_item_index = dict()\n",
    "for i, value in enumerate(unique_values):\n",
    "    lab_item_index[value] = i"
   ]
  },
  {
   "cell_type": "code",
   "execution_count": 8,
   "metadata": {},
   "outputs": [],
   "source": [
    "diag_data = np.zeros([num_hadm_id, num_icd9_code], dtype=bool)\n",
    "lab_data = np.zeros([num_hadm_id, num_lab_item], dtype=bool)\n",
    "# for continuous lab event node\n",
    "# lab_data = np.ones([num_hadm_id, num_lab_item]) * np.nan\n",
    "\n",
    "for i in range(len(diag)):\n",
    "    hadm_id = diag.loc[i]['hadm_id']\n",
    "    icd9_code = diag.loc[i]['icd9_code']\n",
    "    diag_data[hadm_id_index[hadm_id], icd9_code_index[icd9_code]] = True\n",
    "\n",
    "for i in range(len(lab)):\n",
    "    subject_id = lab.loc[i]['subject_id']\n",
    "    hadm_id = lab.loc[i]['hadm_id']\n",
    "    itemid = lab.loc[i]['itemid']\n",
    "    # valuenum = lab.loc[i]['valuenum']\n",
    "    if np.isnan(hadm_id):\n",
    "        if len(hadm_id_subject_id[subject_id]) != 1:\n",
    "            continue\n",
    "        else:\n",
    "            hadm_id = hadm_id_subject_id[subject_id][0]\n",
    "    lab_data[hadm_id_index[hadm_id], lab_item_index[itemid]] = (lab.loc[i]['flag']=='abnormal')\n",
    "    # lab_data[hadm_id_index[hadm_id], lab_item_index[itemid]] = valuenum"
   ]
  },
  {
   "cell_type": "code",
   "execution_count": 9,
   "metadata": {},
   "outputs": [],
   "source": [
    "diag_col_name = []\n",
    "for icd9_code in icd9_code_index:\n",
    "    diag_col_name.append('icd9_code_{}'.format(icd9_code))\n",
    "\n",
    "lab_col_name = []\n",
    "for itemid in lab_item_index:\n",
    "    lab_col_name.append('lab_itemid_{}'.format(icd9_code))\n",
    "\n",
    "diag_df = pd.DataFrame(diag_data, columns=diag_col_name)\n",
    "lab_df = pd.DataFrame(lab_data, columns=lab_col_name)\n",
    "\n",
    "df = pd.concat([diag_df, lab_df], axis=1)\n",
    "df.to_csv('mimic-iii.csv')"
   ]
  }
 ],
 "metadata": {
  "kernelspec": {
   "display_name": "Python 3",
   "language": "python",
   "name": "python3"
  },
  "language_info": {
   "codemirror_mode": {
    "name": "ipython",
    "version": 3
   },
   "file_extension": ".py",
   "mimetype": "text/x-python",
   "name": "python",
   "nbconvert_exporter": "python",
   "pygments_lexer": "ipython3",
   "version": "3.11.5"
  }
 },
 "nbformat": 4,
 "nbformat_minor": 2
}
